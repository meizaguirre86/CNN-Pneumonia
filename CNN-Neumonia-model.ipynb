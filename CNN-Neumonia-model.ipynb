{
 "cells": [
  {
   "cell_type": "code",
   "execution_count": 13,
   "metadata": {
    "colab": {},
    "colab_type": "code",
    "id": "dn-6c02VmqiN"
   },
   "outputs": [],
   "source": [
    "import os\n",
    "import random\n",
    "import tensorflow as tf\n",
    "from keras.optimizers import RMSprop\n",
    "from keras.preprocessing.image import ImageDataGenerator\n",
    "import keras"
   ]
  },
  {
   "cell_type": "markdown",
   "metadata": {},
   "source": [
    "Let's see how many photos we have to train, test and validate our model."
   ]
  },
  {
   "cell_type": "code",
   "execution_count": 14,
   "metadata": {
    "colab": {},
    "colab_type": "code",
    "id": "zvSODo0f9LaU"
   },
   "outputs": [
    {
     "name": "stdout",
     "output_type": "stream",
     "text": [
      "1341\n",
      "8\n",
      "234\n",
      "3875\n",
      "8\n",
      "390\n"
     ]
    }
   ],
   "source": [
    "train_folder= r\"C:\\Users\\meiza\\Documents\\GitHub\\CNN-Pneumonia\\chest_xray\\train\"\n",
    "val_folder = r\"C:\\Users\\meiza\\Documents\\GitHub\\CNN-Pneumonia\\chest_xray\\val\"\n",
    "test_folder = r\"C:\\Users\\meiza\\Documents\\GitHub\\CNN-Pneumonia\\chest_xray\\test\"\n",
    "\n",
    "train_normal_folder= r\"C:\\Users\\meiza\\Documents\\GitHub\\CNN-Pneumonia\\chest_xray\\train\\NORMAL\"\n",
    "val_normal_folder = r\"C:\\Users\\meiza\\Documents\\GitHub\\CNN-Pneumonia\\chest_xray\\val\\NORMAL\"\n",
    "test_normal_folder = r\"C:\\Users\\meiza\\Documents\\GitHub\\CNN-Pneumonia\\chest_xray\\test\\NORMAL\"\n",
    "\n",
    "train_pneumonia_folder= r\"C:\\Users\\meiza\\Documents\\GitHub\\CNN-Pneumonia\\chest_xray\\train\\PNEUMONIA\"\n",
    "val_pneumonia_folder = r\"C:\\Users\\meiza\\Documents\\GitHub\\CNN-Pneumonia\\chest_xray\\val\\PNEUMONIA\"\n",
    "test_pneumonia_folder = r\"C:\\Users\\meiza\\Documents\\GitHub\\CNN-Pneumonia\\chest_xray\\test\\PNEUMONIA\"\n",
    "\n",
    "print(len(os.listdir(train_normal_folder)))\n",
    "print(len(os.listdir(val_normal_folder)))\n",
    "print(len(os.listdir(test_normal_folder)))\n",
    "print(len(os.listdir(train_pneumonia_folder)))\n",
    "print(len(os.listdir(val_pneumonia_folder)))\n",
    "print(len(os.listdir(test_pneumonia_folder)))"
   ]
  },
  {
   "cell_type": "markdown",
   "metadata": {},
   "source": [
    "We create the model composed of convolution, max pooling, flatten, and dense layers."
   ]
  },
  {
   "cell_type": "code",
   "execution_count": 15,
   "metadata": {
    "colab": {},
    "colab_type": "code",
    "id": "-BQrav4anTmj"
   },
   "outputs": [],
   "source": [
    "model = keras.models.Sequential([\n",
    "    keras.layers.Conv2D(16, (3, 3), activation='relu', input_shape=(150, 150, 3)),\n",
    "    keras.layers.MaxPooling2D(2, 2),\n",
    "    keras.layers.Conv2D(32, (3, 3), activation='relu'),\n",
    "    keras.layers.MaxPooling2D(2, 2),\n",
    "    keras.layers.Conv2D(64, (3, 3), activation='relu'),\n",
    "    keras.layers.MaxPooling2D(2, 2),\n",
    "    keras.layers.Flatten(),\n",
    "    keras.layers.Dense(512, activation='relu'),\n",
    "    keras.layers.Dense(2, activation='softmax')\n",
    "])\n",
    "\n",
    "model.compile(optimizer='adam', loss='categorical_crossentropy', metrics=['accuracy'])\n"
   ]
  },
  {
   "cell_type": "markdown",
   "metadata": {},
   "source": [
    "Next step consists in generating and transforming our dataset to fit it to our model."
   ]
  },
  {
   "cell_type": "code",
   "execution_count": 16,
   "metadata": {
    "colab": {},
    "colab_type": "code",
    "id": "fQrZfVgz4j2g"
   },
   "outputs": [
    {
     "name": "stdout",
     "output_type": "stream",
     "text": [
      "Found 5216 images belonging to 2 classes.\n",
      "Found 16 images belonging to 2 classes.\n",
      "Found 624 images belonging to 2 classes.\n"
     ]
    }
   ],
   "source": [
    "train_datagen = ImageDataGenerator(\n",
    "                                    rescale=1/255,featurewise_center=False,\n",
    "                                    samplewise_center=False,\n",
    "                                    featurewise_std_normalization=False,\n",
    "                                    samplewise_std_normalization=False,\n",
    "                                    zca_whitening=False,\n",
    "                                    rotation_range = 30,\n",
    "                                    zoom_range = 0.2,\n",
    "                                    width_shift_range=0.1,\n",
    "                                    height_shift_range=0.1,\n",
    "                                    horizontal_flip = False,\n",
    "                                    vertical_flip=False)\n",
    "\n",
    "val_datagen = ImageDataGenerator(rescale=1/255)\n",
    "\n",
    "test_datagen = ImageDataGenerator(rescale=1/255)\n",
    "\n",
    "train_generator = train_datagen.flow_from_directory(\n",
    "                                                    train_folder,\n",
    "                                                    target_size=(150, 150),\n",
    "                                                    batch_size=16,\n",
    "                                                    class_mode='categorical')\n",
    "\n",
    "val_generator = val_datagen.flow_from_directory(\n",
    "                                                    val_folder,\n",
    "                                                    target_size=(150, 150),\n",
    "                                                    batch_size=16,\n",
    "                                                    class_mode='categorical')\n",
    "test_generator = test_datagen.flow_from_directory(\n",
    "                                                    test_folder,\n",
    "                                                    target_size=(150, 150),\n",
    "                                                    batch_size=16,\n",
    "                                                    class_mode='categorical')\n",
    "\n"
   ]
  },
  {
   "cell_type": "markdown",
   "metadata": {},
   "source": [
    "Let's train our model."
   ]
  },
  {
   "cell_type": "code",
   "execution_count": 17,
   "metadata": {
    "colab": {},
    "colab_type": "code",
    "id": "5qE1G6JB4fMn",
    "scrolled": true
   },
   "outputs": [
    {
     "name": "stdout",
     "output_type": "stream",
     "text": [
      "Epoch 1/15\n",
      "326/326 [==============================] - 106s 324ms/step - loss: 0.3931 - accuracy: 0.8278 - val_loss: 0.5401 - val_accuracy: 0.7500\n",
      "Epoch 2/15\n",
      "326/326 [==============================] - 104s 320ms/step - loss: 0.2629 - accuracy: 0.8880 - val_loss: 1.2011 - val_accuracy: 0.6250\n",
      "Epoch 3/15\n",
      "326/326 [==============================] - 106s 326ms/step - loss: 0.2259 - accuracy: 0.9089 - val_loss: 0.7135 - val_accuracy: 0.7500\n",
      "Epoch 4/15\n",
      "326/326 [==============================] - 105s 322ms/step - loss: 0.1941 - accuracy: 0.9241 - val_loss: 0.6136 - val_accuracy: 0.7500\n",
      "Epoch 5/15\n",
      "326/326 [==============================] - 107s 327ms/step - loss: 0.1822 - accuracy: 0.9312 - val_loss: 0.4003 - val_accuracy: 0.8125\n",
      "Epoch 6/15\n",
      "326/326 [==============================] - 107s 327ms/step - loss: 0.1662 - accuracy: 0.9346 - val_loss: 0.6046 - val_accuracy: 0.8125\n",
      "Epoch 7/15\n",
      "326/326 [==============================] - 106s 326ms/step - loss: 0.1577 - accuracy: 0.9415 - val_loss: 0.3077 - val_accuracy: 0.8125\n",
      "Epoch 8/15\n",
      "326/326 [==============================] - 107s 327ms/step - loss: 0.1427 - accuracy: 0.9442 - val_loss: 0.4617 - val_accuracy: 0.7500\n",
      "Epoch 9/15\n",
      "326/326 [==============================] - 106s 325ms/step - loss: 0.1395 - accuracy: 0.9475 - val_loss: 0.4312 - val_accuracy: 0.7500\n",
      "Epoch 10/15\n",
      "326/326 [==============================] - 106s 326ms/step - loss: 0.1422 - accuracy: 0.9459 - val_loss: 0.4624 - val_accuracy: 0.7500\n",
      "Epoch 11/15\n",
      "326/326 [==============================] - 106s 325ms/step - loss: 0.1349 - accuracy: 0.9480 - val_loss: 0.5610 - val_accuracy: 0.7500\n",
      "Epoch 12/15\n",
      "326/326 [==============================] - 106s 325ms/step - loss: 0.1229 - accuracy: 0.9546 - val_loss: 0.4156 - val_accuracy: 0.6875\n",
      "Epoch 13/15\n",
      "326/326 [==============================] - 106s 325ms/step - loss: 0.1281 - accuracy: 0.9509 - val_loss: 0.4178 - val_accuracy: 0.8750\n",
      "Epoch 14/15\n",
      "326/326 [==============================] - 106s 324ms/step - loss: 0.1231 - accuracy: 0.9540 - val_loss: 0.4019 - val_accuracy: 0.7500\n",
      "Epoch 15/15\n",
      "326/326 [==============================] - 106s 326ms/step - loss: 0.1220 - accuracy: 0.9569 - val_loss: 0.5835 - val_accuracy: 0.7500\n"
     ]
    }
   ],
   "source": [
    "history = model.fit(train_generator,\n",
    "                              epochs=15,\n",
    "                              verbose=1,\n",
    "                              validation_data=val_generator)"
   ]
  },
  {
   "cell_type": "markdown",
   "metadata": {},
   "source": [
    "Let's take a look at the following graphs. We can see that the more epochs we run the more accuracy we achieve."
   ]
  },
  {
   "cell_type": "code",
   "execution_count": 18,
   "metadata": {
    "colab": {},
    "colab_type": "code",
    "id": "MWZrJN4-65RC"
   },
   "outputs": [
    {
     "data": {
      "text/plain": [
       "<Figure size 432x288 with 0 Axes>"
      ]
     },
     "execution_count": 18,
     "metadata": {},
     "output_type": "execute_result"
    },
    {
     "data": {
      "image/png": "[encoded data removed]",
      "text/plain": [
       "<Figure size 432x288 with 1 Axes>"
      ]
     },
     "metadata": {
      "needs_background": "light"
     },
     "output_type": "display_data"
    },
    {
     "data": {
      "image/png": "[encoded data removed]",
      "text/plain": [
       "<Figure size 432x288 with 1 Axes>"
      ]
     },
     "metadata": {
      "needs_background": "light"
     },
     "output_type": "display_data"
    },
    {
     "data": {
      "text/plain": [
       "<Figure size 432x288 with 0 Axes>"
      ]
     },
     "metadata": {},
     "output_type": "display_data"
    }
   ],
   "source": [
    "%matplotlib inline\n",
    "\n",
    "import matplotlib.image  as mpimg\n",
    "import matplotlib.pyplot as plt\n",
    "\n",
    "acc=history.history['accuracy']\n",
    "val_acc=history.history['val_accuracy']\n",
    "loss=history.history['loss']\n",
    "val_loss=history.history['val_loss']\n",
    "\n",
    "epochs=range(len(acc)) # Get number of epochs\n",
    "\n",
    "plt.plot(epochs, acc, 'r', \"Training Accuracy\")\n",
    "plt.plot(epochs, val_acc, 'b', \"Validation Accuracy\")\n",
    "plt.title('Training and validation accuracy')\n",
    "plt.figure()\n",
    "\n",
    "\n",
    "\n",
    "plt.plot(epochs, loss, 'r', \"Training Loss\")\n",
    "plt.plot(epochs, val_loss, 'b', \"Validation Loss\")\n",
    "plt.figure()"
   ]
  },
  {
   "cell_type": "markdown",
   "metadata": {},
   "source": [
    "Now it's time to calculate the accuracy with test dataset."
   ]
  },
  {
   "cell_type": "code",
   "execution_count": 19,
   "metadata": {},
   "outputs": [
    {
     "name": "stdout",
     "output_type": "stream",
     "text": [
      "39/39 [==============================] - 7s 173ms/step - loss: 0.3145 - accuracy: 0.8910\n",
      "Loss of the model is -  31.44918978214264 %\n",
      "39/39 [==============================] - 7s 169ms/step - loss: 0.3145 - accuracy: 0.8910\n",
      "Accuracy of the model is -  89.10256624221802 %\n"
     ]
    }
   ],
   "source": [
    "print(\"Loss of the model is - \" , model.evaluate(test_generator)[0]*100 , \"%\")\n",
    "print(\"Accuracy of the model is - \" , model.evaluate(test_generator)[1]*100 , \"%\")"
   ]
  },
  {
   "cell_type": "markdown",
   "metadata": {},
   "source": [
    "Finally and once we get our expected model, we save it to avoid having to train again."
   ]
  },
  {
   "cell_type": "code",
   "execution_count": 20,
   "metadata": {},
   "outputs": [],
   "source": [
    "model.save('model.h5')"
   ]
  }
 ],
 "metadata": {
  "accelerator": "GPU",
  "colab": {
   "name": "Exercise 6 - Answer.ipynb",
   "provenance": [],
   "toc_visible": true,
   "version": "0.3.2"
  },
  "kernelspec": {
   "display_name": "Python 3",
   "language": "python",
   "name": "python3"
  },
  "language_info": {
   "codemirror_mode": {
    "name": "ipython",
    "version": 3
   },
   "file_extension": ".py",
   "mimetype": "text/x-python",
   "name": "python",
   "nbconvert_exporter": "python",
   "pygments_lexer": "ipython3",
   "version": "3.8.5"
  }
 },
 "nbformat": 4,
 "nbformat_minor": 1
}
