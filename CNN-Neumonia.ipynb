{
 "cells": [
  {
   "cell_type": "code",
   "execution_count": 33,
   "metadata": {
    "colab": {},
    "colab_type": "code",
    "id": "dn-6c02VmqiN"
   },
   "outputs": [],
   "source": [
    "import os\n",
    "import random\n",
    "import tensorflow as tf\n",
    "from tensorflow.keras.optimizers import RMSprop\n",
    "from tensorflow.keras.preprocessing.image import ImageDataGenerator"
   ]
  },
  {
   "cell_type": "code",
   "execution_count": 34,
   "metadata": {
    "colab": {},
    "colab_type": "code",
    "id": "zvSODo0f9LaU"
   },
   "outputs": [],
   "source": [
    "TRAINING_NORMAL_DIR = r\"C:\\Users\\meiza\\Documents\\GitHub\\CNN-Pneumonia\\chest_xray\\train\\NORMAL\"\n",
    "TESTING_NORMAL_DIR = r\"C:\\Users\\meiza\\Documents\\GitHub\\CNN-Pneumonia\\chest_xray\\test\\NORMAL\"\n",
    "\n",
    "\n",
    "TRAINING_PNEUMONIA_DIR = r\"C:\\Users\\meiza\\Documents\\GitHub\\CNN-Pneumonia\\chest_xray\\train\\PNEUMONIA\"\n",
    "TESTING_PNEUMONIA_DIR = r\"C:\\Users\\meiza\\Documents\\GitHub\\CNN-Pneumonia\\chest_xray\\test\\PNEUMONIA\""
   ]
  },
  {
   "cell_type": "code",
   "execution_count": 35,
   "metadata": {
    "colab": {},
    "colab_type": "code",
    "id": "hwHXFhVG3786"
   },
   "outputs": [
    {
     "name": "stdout",
     "output_type": "stream",
     "text": [
      "1349\n",
      "234\n",
      "3883\n",
      "390\n"
     ]
    }
   ],
   "source": [
    "print(len(os.listdir(TRAINING_NORMAL_DIR)))\n",
    "print(len(os.listdir(TESTING_NORMAL_DIR)))\n",
    "\n",
    "print(len(os.listdir(TRAINING_PNEUMONIA_DIR)))\n",
    "print(len(os.listdir(TESTING_PNEUMONIA_DIR)))"
   ]
  },
  {
   "cell_type": "code",
   "execution_count": 36,
   "metadata": {
    "colab": {},
    "colab_type": "code",
    "id": "-BQrav4anTmj"
   },
   "outputs": [],
   "source": [
    "model = tf.keras.models.Sequential([\n",
    "    tf.keras.layers.Conv2D(16, (3, 3), activation='relu', input_shape=(150, 150, 3)),\n",
    "    tf.keras.layers.MaxPooling2D(2, 2),\n",
    "    tf.keras.layers.Conv2D(32, (3, 3), activation='relu'),\n",
    "    tf.keras.layers.MaxPooling2D(2, 2),\n",
    "    tf.keras.layers.Conv2D(64, (3, 3), activation='relu'),\n",
    "    tf.keras.layers.MaxPooling2D(2, 2),\n",
    "    tf.keras.layers.Flatten(),\n",
    "    tf.keras.layers.Dense(512, activation='relu'),\n",
    "    tf.keras.layers.Dense(1, activation='sigmoid')\n",
    "])\n",
    "\n",
    "model.compile(optimizer=RMSprop(lr=0.001), loss='binary_crossentropy', metrics=['accuracy'])\n"
   ]
  },
  {
   "cell_type": "code",
   "execution_count": 37,
   "metadata": {
    "colab": {},
    "colab_type": "code",
    "id": "fQrZfVgz4j2g"
   },
   "outputs": [
    {
     "name": "stdout",
     "output_type": "stream",
     "text": [
      "Found 5232 images belonging to 2 classes.\n",
      "Found 624 images belonging to 2 classes.\n"
     ]
    }
   ],
   "source": [
    "TRAINING_DIR = r\"C:\\Users\\meiza\\Documents\\GitHub\\CNN-Pneumonia\\chest_xray\\train\"\n",
    "train_datagen = ImageDataGenerator(rescale=1./510,\n",
    "      rotation_range=40,\n",
    "      width_shift_range=0.2,\n",
    "      height_shift_range=0.2,\n",
    "      shear_range=0.2,\n",
    "      zoom_range=0.2,\n",
    "      horizontal_flip=True,\n",
    "      fill_mode='nearest')\n",
    "train_generator = train_datagen.flow_from_directory(TRAINING_DIR,\n",
    "                                                    batch_size=100,\n",
    "                                                    class_mode='binary',\n",
    "                                                    target_size=(150, 150))\n",
    "\n",
    "VALIDATION_DIR = r\"C:\\Users\\meiza\\Documents\\GitHub\\CNN-Pneumonia\\chest_xray\\test\"\n",
    "validation_datagen = ImageDataGenerator(rescale=1./510,\n",
    "      rotation_range=40,\n",
    "      width_shift_range=0.2,\n",
    "      height_shift_range=0.2,\n",
    "      shear_range=0.2,\n",
    "      zoom_range=0.2,\n",
    "      horizontal_flip=True,\n",
    "      fill_mode='nearest')\n",
    "\n",
    "validation_generator = validation_datagen.flow_from_directory(VALIDATION_DIR,\n",
    "                                                              batch_size=100,\n",
    "                                                              class_mode='binary',\n",
    "                                                              target_size=(150, 150))"
   ]
  },
  {
   "cell_type": "code",
   "execution_count": 38,
   "metadata": {
    "colab": {},
    "colab_type": "code",
    "id": "5qE1G6JB4fMn"
   },
   "outputs": [
    {
     "name": "stdout",
     "output_type": "stream",
     "text": [
      "Epoch 1/15\n",
      "53/53 [==============================] - 112s 2s/step - loss: 0.6876 - accuracy: 0.7141 - val_loss: 0.7145 - val_accuracy: 0.6250\n",
      "Epoch 2/15\n",
      "53/53 [==============================] - 104s 2s/step - loss: 0.5300 - accuracy: 0.7445 - val_loss: 0.5166 - val_accuracy: 0.7372\n",
      "Epoch 3/15\n",
      "53/53 [==============================] - 104s 2s/step - loss: 0.4679 - accuracy: 0.7854 - val_loss: 0.9309 - val_accuracy: 0.6362\n",
      "Epoch 4/15\n",
      "53/53 [==============================] - 105s 2s/step - loss: 0.3985 - accuracy: 0.8207 - val_loss: 0.9357 - val_accuracy: 0.6378\n",
      "Epoch 5/15\n",
      "53/53 [==============================] - 104s 2s/step - loss: 0.3863 - accuracy: 0.8140 - val_loss: 0.4804 - val_accuracy: 0.7933\n",
      "Epoch 6/15\n",
      "53/53 [==============================] - 105s 2s/step - loss: 0.3516 - accuracy: 0.8494 - val_loss: 0.5226 - val_accuracy: 0.7708\n",
      "Epoch 7/15\n",
      "53/53 [==============================] - 105s 2s/step - loss: 0.3295 - accuracy: 0.8536 - val_loss: 0.5523 - val_accuracy: 0.7580\n",
      "Epoch 8/15\n",
      "53/53 [==============================] - 105s 2s/step - loss: 0.3177 - accuracy: 0.8567 - val_loss: 0.4544 - val_accuracy: 0.8141\n",
      "Epoch 9/15\n",
      "53/53 [==============================] - 105s 2s/step - loss: 0.2979 - accuracy: 0.8786 - val_loss: 0.4539 - val_accuracy: 0.8269\n",
      "Epoch 10/15\n",
      "53/53 [==============================] - 105s 2s/step - loss: 0.2747 - accuracy: 0.8809 - val_loss: 1.7620 - val_accuracy: 0.6362\n",
      "Epoch 11/15\n",
      "53/53 [==============================] - 106s 2s/step - loss: 0.2751 - accuracy: 0.8899 - val_loss: 0.4433 - val_accuracy: 0.8141\n",
      "Epoch 12/15\n",
      "53/53 [==============================] - 105s 2s/step - loss: 0.2617 - accuracy: 0.8872 - val_loss: 0.4952 - val_accuracy: 0.8237\n",
      "Epoch 13/15\n",
      "53/53 [==============================] - 104s 2s/step - loss: 0.2645 - accuracy: 0.8855 - val_loss: 0.4199 - val_accuracy: 0.8317\n",
      "Epoch 14/15\n",
      "53/53 [==============================] - 105s 2s/step - loss: 0.2455 - accuracy: 0.8979 - val_loss: 0.3463 - val_accuracy: 0.8590\n",
      "Epoch 15/15\n",
      "53/53 [==============================] - 104s 2s/step - loss: 0.2260 - accuracy: 0.9023 - val_loss: 0.3808 - val_accuracy: 0.8638\n"
     ]
    }
   ],
   "source": [
    "history = model.fit(train_generator,\n",
    "                              epochs=15,\n",
    "                              verbose=1,\n",
    "                              validation_data=validation_generator)"
   ]
  },
  {
   "cell_type": "code",
   "execution_count": 39,
   "metadata": {
    "colab": {},
    "colab_type": "code",
    "id": "MWZrJN4-65RC"
   },
   "outputs": [
    {
     "data": {
      "text/plain": [
       "<Figure size 432x288 with 0 Axes>"
      ]
     },
     "execution_count": 39,
     "metadata": {},
     "output_type": "execute_result"
    },
    {
     "data": {
      "image/png": "[encoded data removed]",
      "text/plain": [
       "<Figure size 432x288 with 1 Axes>"
      ]
     },
     "metadata": {
      "needs_background": "light"
     },
     "output_type": "display_data"
    },
    {
     "data": {
      "image/png": "[encoded data removed]",
      "text/plain": [
       "<Figure size 432x288 with 1 Axes>"
      ]
     },
     "metadata": {
      "needs_background": "light"
     },
     "output_type": "display_data"
    },
    {
     "data": {
      "text/plain": [
       "<Figure size 432x288 with 0 Axes>"
      ]
     },
     "metadata": {},
     "output_type": "display_data"
    }
   ],
   "source": [
    "%matplotlib inline\n",
    "\n",
    "import matplotlib.image  as mpimg\n",
    "import matplotlib.pyplot as plt\n",
    "\n",
    "#-----------------------------------------------------------\n",
    "# Retrieve a list of list results on training and test data\n",
    "# sets for each training epoch\n",
    "#-----------------------------------------------------------\n",
    "acc=history.history['accuracy']\n",
    "val_acc=history.history['val_accuracy']\n",
    "loss=history.history['loss']\n",
    "val_loss=history.history['val_loss']\n",
    "\n",
    "epochs=range(len(acc)) # Get number of epochs\n",
    "\n",
    "#------------------------------------------------\n",
    "# Plot training and validation accuracy per epoch\n",
    "#------------------------------------------------\n",
    "plt.plot(epochs, acc, 'r', \"Training Accuracy\")\n",
    "plt.plot(epochs, val_acc, 'b', \"Validation Accuracy\")\n",
    "plt.title('Training and validation accuracy')\n",
    "plt.figure()\n",
    "\n",
    "#------------------------------------------------\n",
    "# Plot training and validation loss per epoch\n",
    "#------------------------------------------------\n",
    "plt.plot(epochs, loss, 'r', \"Training Loss\")\n",
    "plt.plot(epochs, val_loss, 'b', \"Validation Loss\")\n",
    "plt.figure()\n",
    "\n",
    "\n",
    "# Desired output. Charts with training and validation metrics. No crash :)"
   ]
  },
  {
   "cell_type": "code",
   "execution_count": null,
   "metadata": {
    "colab": {},
    "colab_type": "code",
    "id": "LqL6FYUrtXpf"
   },
   "outputs": [],
   "source": [
    "# Here's a codeblock just for fun. You should be able to upload an image here \n",
    "# and have it classified without crashing\n",
    "import numpy as np\n",
    "from google.colab import files\n",
    "from keras.preprocessing import image\n",
    "\n",
    "uploaded = files.upload()\n",
    "\n",
    "for fn in uploaded.keys():\n",
    " \n",
    "  # predicting images\n",
    "  path = '/content/' + fn\n",
    "  img = image.load_img(path, target_size=(150, 150))\n",
    "  x = image.img_to_array(img)\n",
    "  x = np.expand_dims(x, axis=0)\n",
    "\n",
    "  images = np.vstack([x])\n",
    "  classes = model.predict(images, batch_size=10)\n",
    "  print(classes[0])\n",
    "  if classes[0]>0.5:\n",
    "    print(fn + \" is a dog\")\n",
    "  else:\n",
    "    print(fn + \" is a cat\")"
   ]
  }
 ],
 "metadata": {
  "accelerator": "GPU",
  "colab": {
   "name": "Exercise 6 - Answer.ipynb",
   "provenance": [],
   "toc_visible": true,
   "version": "0.3.2"
  },
  "kernelspec": {
   "display_name": "Python 3",
   "language": "python",
   "name": "python3"
  },
  "language_info": {
   "codemirror_mode": {
    "name": "ipython",
    "version": 3
   },
   "file_extension": ".py",
   "mimetype": "text/x-python",
   "name": "python",
   "nbconvert_exporter": "python",
   "pygments_lexer": "ipython3",
   "version": "3.8.5"
  }
 },
 "nbformat": 4,
 "nbformat_minor": 1
}
